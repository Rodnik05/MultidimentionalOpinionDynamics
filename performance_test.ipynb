{
 "cells": [
  {
   "cell_type": "code",
   "execution_count": 106,
   "metadata": {},
   "outputs": [],
   "source": [
    "import numpy as np\n",
    "import time\n",
    "import polars as pl\n",
    "\n",
    "\n",
    "def dist(A, B, GramMatrix):\n",
    "    return (\n",
    "        np.diag(np.matmul(\n",
    "            np.matmul(A, GramMatrix), \n",
    "            A.T)) +\n",
    "        np.diag(np.matmul(\n",
    "            np.matmul(B.T, GramMatrix), \n",
    "            B)).reshape(-1, 1) - \n",
    "        2 * (np.matmul(\n",
    "            np.matmul(B.T, GramMatrix), \n",
    "            A.T))) "
   ]
  },
  {
   "cell_type": "code",
   "execution_count": 107,
   "metadata": {},
   "outputs": [
    {
     "data": {
      "text/plain": [
       "array([[0.68349891, 0.73592707, 1.04745364, 0.4957842 ],\n",
       "       [0.73592707, 0.85606979, 1.14926101, 0.56760494],\n",
       "       [1.04745364, 1.14926101, 1.90322017, 1.05942348],\n",
       "       [0.4957842 , 0.56760494, 1.05942348, 0.66330192]])"
      ]
     },
     "execution_count": 107,
     "metadata": {},
     "output_type": "execute_result"
    }
   ],
   "source": [
    "A = np.random.rand(3, 4)\n",
    "np.dot(A.T, A)"
   ]
  },
  {
   "cell_type": "code",
   "execution_count": 108,
   "metadata": {},
   "outputs": [],
   "source": [
    "def performance_test(n: int, k: int, m: int, iterations: int):\n",
    "    A = np.random.rand(m, n)\n",
    "    B = np.random.rand(n, k)\n",
    "    \n",
    "    # Gram matrix must be symmetric\n",
    "    GramMatrix = np.random.rand(n, n)\n",
    "    GramMatrix = (GramMatrix + GramMatrix.T) * 0.5\n",
    "    \n",
    "    assert A.shape[0] == m and B.shape[1] == k\n",
    "    \n",
    "    naive_time = 0\n",
    "    new_time = 0\n",
    "    for it in range(iterations):\n",
    "        result1 = np.zeros((k, m))\n",
    "        \n",
    "        point0 = time.time()\n",
    "        \n",
    "        for j in range(m):\n",
    "            for i in range(k):\n",
    "                result1[i, j] = np.dot(np.dot(A[j] - B[:,i].T, GramMatrix), A[j].T - B[:,i]).item()\n",
    "                \n",
    "        point1 = time.time()   \n",
    "          \n",
    "        result2 = dist(A, B, GramMatrix)\n",
    "        \n",
    "        point2 = time.time()\n",
    "        \n",
    "        assert np.allclose(result1, result2)\n",
    "        \n",
    "        naive_time += (point1 - point0)\n",
    "        new_time += (point2 - point1)\n",
    "   \n",
    "    return  naive_time, new_time, iterations\n",
    "        "
   ]
  },
  {
   "cell_type": "code",
   "execution_count": 109,
   "metadata": {},
   "outputs": [
    {
     "name": "stdout",
     "output_type": "stream",
     "text": [
      "(1.2779417037963867, 0.23721766471862793, 10000)\n"
     ]
    }
   ],
   "source": [
    "print(performance_test(3, 4, 6, 10000))"
   ]
  }
 ],
 "metadata": {
  "kernelspec": {
   "display_name": "venv",
   "language": "python",
   "name": "python3"
  },
  "language_info": {
   "codemirror_mode": {
    "name": "ipython",
    "version": 3
   },
   "file_extension": ".py",
   "mimetype": "text/x-python",
   "name": "python",
   "nbconvert_exporter": "python",
   "pygments_lexer": "ipython3",
   "version": "3.11.1"
  }
 },
 "nbformat": 4,
 "nbformat_minor": 2
}

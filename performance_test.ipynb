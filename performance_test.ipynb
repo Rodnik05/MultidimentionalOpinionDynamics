{
 "cells": [
  {
   "cell_type": "code",
   "execution_count": 3,
   "metadata": {},
   "outputs": [
    {
     "data": {
      "text/plain": [
       "matrix([[  0.    ,   8.    , 152.    , 497.3536, 324.    ],\n",
       "        [  8.    ,   0.    , 104.    , 451.1136, 404.    ],\n",
       "        [152.    , 104.    ,   0.    , 747.9136, 908.    ],\n",
       "        [497.3536, 451.1136, 747.9136,   0.    , 553.5136],\n",
       "        [324.    , 404.    , 908.    , 553.5136,   0.    ]])"
      ]
     },
     "execution_count": 3,
     "metadata": {},
     "output_type": "execute_result"
    }
   ],
   "source": [
    "from MultidimentionalOpinionDynamics import Dynamics\n",
    "\n",
    "import numpy as np\n",
    "\n",
    "AgentsOpinions = np.matrix([[-1, 0, 8],\n",
    "                        [1, 0, 10],\n",
    "                        [1, 2, 20],\n",
    "                        [20, -1, 0.56],\n",
    "                        [-1, 0, -10]], dtype=np.float64)\n",
    "\n",
    "GramMatrix = np.matrix([[1, 0, 0],\n",
    "                        [0, 1, 0],\n",
    "                        [0, 0, 1]], dtype=np.float64)\n",
    " \n",
    "\n",
    "\n",
    "dynamics = Dynamics(AgentsOpinions, GramMatrix, 200)\n",
    "dynamics.dist(AgentsOpinions, AgentsOpinions, GramMatrix)\n",
    "\n",
    "Dynamics.dist(3, AgentsOpinions, AgentsOpinions, GramMatrix)"
   ]
  }
 ],
 "metadata": {
  "kernelspec": {
   "display_name": "venv",
   "language": "python",
   "name": "python3"
  },
  "language_info": {
   "codemirror_mode": {
    "name": "ipython",
    "version": 3
   },
   "file_extension": ".py",
   "mimetype": "text/x-python",
   "name": "python",
   "nbconvert_exporter": "python",
   "pygments_lexer": "ipython3",
   "version": "3.12.5"
  }
 },
 "nbformat": 4,
 "nbformat_minor": 2
}

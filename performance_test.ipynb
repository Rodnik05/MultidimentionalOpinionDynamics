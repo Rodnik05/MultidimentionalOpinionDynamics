{
 "cells": [
  {
   "cell_type": "code",
   "execution_count": 23,
   "metadata": {},
   "outputs": [
    {
     "name": "stdout",
     "output_type": "stream",
     "text": [
      "[[  0.       8.     152.     497.3536 324.    ]\n",
      " [  8.       0.     104.     451.1136 404.    ]\n",
      " [152.     104.       0.     747.9136 908.    ]\n",
      " [497.3536 451.1136 747.9136   0.     553.5136]\n",
      " [324.     404.     908.     553.5136   0.    ]] 0.00099945068359375\n",
      "[[  0.       8.     152.     497.3536 324.    ]\n",
      " [  8.       0.     104.     451.1136 404.    ]\n",
      " [152.     104.       0.     747.9136 908.    ]\n",
      " [497.3536 451.1136 747.9136   0.     553.5136]\n",
      " [324.     404.     908.     553.5136   0.    ]] 0.0\n"
     ]
    }
   ],
   "source": [
    "import numpy as np\n",
    "import time\n",
    "\n",
    "def dist(A, B, GramMatrix):\n",
    "    return (\n",
    "        np.diag(np.matmul(\n",
    "            np.matmul(A, GramMatrix), \n",
    "            A.T)).reshape(-1, 1) +\n",
    "        np.diag(np.matmul(\n",
    "            np.matmul(B.T, GramMatrix), \n",
    "            B)) - \n",
    "        2 * (np.matmul(\n",
    "            np.matmul(B.T, GramMatrix), \n",
    "            A.T))) \n",
    "\n",
    "\n",
    "A = np.matrix([[-1, 0, 8],\n",
    "                        [1, 0, 10],\n",
    "                        [1, 2, 20],\n",
    "                        [20, -1, 0.56],\n",
    "                        [-1, 0, -10]], dtype=np.float64)\n",
    "\n",
    "B = np.matrix([[-1, 0, 8],\n",
    "                        [1, 0, 10],\n",
    "                        [1, 2, 20],\n",
    "                        [20, -1, 0.56],\n",
    "                        [-1, 0, -10]], dtype=np.float64).T\n",
    "\n",
    "GramMatrix = np.matrix([[1, 0, 0],\n",
    "                        [0, 1, 0],\n",
    "                        [0, 0, 1]], dtype=np.float64)\n",
    " \n",
    "\n",
    "\n",
    "result_shape = (A.shape[0], B.shape[1])\n",
    "\n",
    "\n",
    "result1 = np.zeros((A.shape[0], B.shape[1]))\n",
    "\n",
    "start_time1 = time.time()\n",
    "\n",
    "for i in range(result_shape[0]):\n",
    "    for j in range(result_shape[1]):\n",
    "        result1[i, j] = np.dot(np.dot(A[i] - B[:,j].T, GramMatrix), A[i].T - B[:,j]).item()\n",
    "\n",
    "end_time1 = time.time()\n",
    "elapsed_time1 = end_time1 - start_time1\n",
    "\n",
    "print(result1, elapsed_time1)\n",
    "\n",
    "start_time2 = time.time()\n",
    "result2 = dist(A, B, GramMatrix)\n",
    "end_time2 = time.time()\n",
    "elapsed_time2 = end_time2 - start_time2\n",
    "\n",
    "\n",
    "print(result2, elapsed_time2)\n",
    "\n",
    "\n"
   ]
  }
 ],
 "metadata": {
  "kernelspec": {
   "display_name": "venv",
   "language": "python",
   "name": "python3"
  },
  "language_info": {
   "codemirror_mode": {
    "name": "ipython",
    "version": 3
   },
   "file_extension": ".py",
   "mimetype": "text/x-python",
   "name": "python",
   "nbconvert_exporter": "python",
   "pygments_lexer": "ipython3",
   "version": "3.12.5"
  }
 },
 "nbformat": 4,
 "nbformat_minor": 2
}
